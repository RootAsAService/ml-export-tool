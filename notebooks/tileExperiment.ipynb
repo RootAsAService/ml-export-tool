{
 "cells": [
  {
   "cell_type": "code",
   "execution_count": null,
   "metadata": {},
   "outputs": [],
   "source": [
    "import numpy as np\n",
    "import matplotlib.pyplot as plt\n",
    "import mercantile"
   ]
  },
  {
   "cell_type": "code",
   "execution_count": null,
   "metadata": {},
   "outputs": [],
   "source": [
    "def create_super_tile(tile, zoomLevel=2):\n",
    "\n",
    "    rel_tile_pos = np.asarray([(0,0), (0,1), (1,1), (1,0)])\n",
    "    \n",
    "    tile_list = [tile]\n",
    "    tile_position_list = [(0,0)]\n",
    "    for zoom in range(zoomLevel):\n",
    "        child_tile_list = []\n",
    "        child_tile_position = []\n",
    "        for tile, tile_pos in zip(tile_list, tile_position_list):\n",
    "            \n",
    "            tile_pos_np = np.asarray(tile_pos)\n",
    "            print(tile_pos_np)\n",
    "            print(tile_pos_np*2+rel_tile_pos)\n",
    "            \n",
    "            child_tile_list.extend(mercantile.children(tile))\n",
    "            child_tile_position.extend(tile_pos_np*2+rel_tile_pos)\n",
    "\n",
    "        tile_list = child_tile_list\n",
    "        tile_position_list = child_tile_position\n",
    "        print(child_tile_position)\n",
    "\n",
    "\n",
    "    return tile_list, tile_position_list\n",
    "\n",
    "#[Tile(x=47156, y=102760, z=18),\n",
    "# Tile(x=47157, y=102760, z=18),\n",
    "# Tile(x=47157, y=102761, z=18),\n",
    "# Tile(x=47156, y=102761, z=18)]"
   ]
  },
  {
   "cell_type": "code",
   "execution_count": null,
   "metadata": {},
   "outputs": [],
   "source": [
    "from rio_tiler import main\n",
    "import mercantile\n",
    "address = \"s3://spacenet-dataset/AOI_2_Vegas/resultData/AOI_2_Vegas_MULPS_v13_cloud.tiff\"\n",
    "\n",
    "\n",
    "# -115.24, 36.1, -115.2, 36.2, 17)\n",
    "tile_coords = mercantile.tile(-115.24, 36.1986, 17)\n",
    "\n",
    "tile, mask = main.tile(address,\n",
    "                           tile_coords.x,\n",
    "                           tile_coords.y,\n",
    "                           tile_coords.z\n",
    "                           )\n",
    "\n",
    "tile_coords"
   ]
  },
  {
   "cell_type": "code",
   "execution_count": null,
   "metadata": {},
   "outputs": [],
   "source": [
    "tileList, tile_position_list = create_super_tile(tile_coords, zoomLevel=2)"
   ]
  },
  {
   "cell_type": "code",
   "execution_count": null,
   "metadata": {},
   "outputs": [],
   "source": [
    "tileList"
   ]
  },
  {
   "cell_type": "code",
   "execution_count": null,
   "metadata": {},
   "outputs": [],
   "source": [
    "tile_position_list"
   ]
  },
  {
   "cell_type": "code",
   "execution_count": null,
   "metadata": {},
   "outputs": [],
   "source": [
    "tile_size = 256\n",
    "zoomLevel=2\n",
    "superRestile = np.zeros((3,(2**zoomLevel)*tile_size,(2**zoomLevel)*tile_size),dtype=float)\n",
    "\n",
    "for tile_coords, (tilePlace_x, tilePlace_y) in zip(tileList, tile_position_list):\n",
    "    tilePlaceCalc = [tilePlace_x*tile_size, (tilePlace_x+1)*tile_size, tilePlace_y*tile_size, (tilePlace_y+1)*tile_size]\n",
    "    print([tilePlace_x*tile_size, (tilePlace_x+1)*tile_size, tilePlace_y*tile_size, (tilePlace_y+1)*tile_size])\n",
    "    \n",
    "    tmpTile, mask = main.tile(address,\n",
    "                           tile_coords.x,\n",
    "                           tile_coords.y,\n",
    "                           tile_coords.z\n",
    "                           )\n",
    "    \n",
    "    superRestile[:,tilePlaceCalc[0]:tilePlaceCalc[1],tilePlaceCalc[2]:tilePlaceCalc[3]]=tmpTile\n",
    "\n"
   ]
  },
  {
   "cell_type": "code",
   "execution_count": null,
   "metadata": {},
   "outputs": [],
   "source": [
    "plt.imshow(tile[0,:,:])\n",
    "testTile = np.concatenate([tile,tile,tile])\n",
    "plt.imshow(testTile[0,:,:])\n",
    "print(np.max(testTile))"
   ]
  },
  {
   "cell_type": "code",
   "execution_count": null,
   "metadata": {},
   "outputs": [],
   "source": [
    "plt.imshow(superRestile[0,:,:])\n"
   ]
  },
  {
   "cell_type": "code",
   "execution_count": null,
   "metadata": {},
   "outputs": [],
   "source": [
    "plt.imshow(tmpTile[0,:,:])\n"
   ]
  },
  {
   "cell_type": "code",
   "execution_count": null,
   "metadata": {},
   "outputs": [],
   "source": [
    "superRestile = np.zeros((3,4*256,4*256),dtype=float)\n",
    "superRestile[:,:,:] = -999\n"
   ]
  },
  {
   "cell_type": "code",
   "execution_count": null,
   "metadata": {},
   "outputs": [],
   "source": []
  },
  {
   "cell_type": "code",
   "execution_count": null,
   "metadata": {},
   "outputs": [],
   "source": [
    "superRestile[:,256:2*256,256:2*256].max()"
   ]
  },
  {
   "cell_type": "code",
   "execution_count": null,
   "metadata": {},
   "outputs": [],
   "source": [
    "tilePlaceList = [\n",
    "    (0,0), (0,1), (0,2), (0,3),\n",
    "                 (1,0), (1,1), (1,2), (1,3),\n",
    "                 (2,0), (2,1), (2,2), (2,3),\n",
    "                 (3,0), (3,1), (3,2), (3,3)\n",
    "               ]\n",
    "tile_size = 256\n",
    "for tilePlace_x, tilePlace_y in (tileList, tilePlaceList:\n",
    "    tilePlaceCalc = [tilePlace_x*tile_size, (tilePlace_x+1)*tile_size, tilePlace_y*tile_size, (tilePlace_y+1)*tile_size]\n",
    "    print([tilePlace_x*tile_size, (tilePlace_x+1)*tile_size, tilePlace_y*tile_size, (tilePlace_y+1)*tile_size])\n",
    "    superRestile[:,tilePlaceCalc[0]:tilePlaceCalc[1],tilePlaceCalc[2]:tilePlaceCalc[3]]=testTile\n",
    "\n",
    "\n"
   ]
  },
  {
   "cell_type": "code",
   "execution_count": null,
   "metadata": {},
   "outputs": [],
   "source": [
    "superRestile.min()"
   ]
  },
  {
   "cell_type": "code",
   "execution_count": null,
   "metadata": {},
   "outputs": [],
   "source": [
    "plt.imshow(superRestile[0,:,:])\n"
   ]
  },
  {
   "cell_type": "code",
   "execution_count": null,
   "metadata": {},
   "outputs": [],
   "source": [
    "np.asarray([1,1])+np.asarray([1,1])"
   ]
  },
  {
   "cell_type": "code",
   "execution_count": null,
   "metadata": {},
   "outputs": [],
   "source": [
    "test = np.asarray([(0,0), (1,0), (1,1), (0,1)])"
   ]
  },
  {
   "cell_type": "code",
   "execution_count": null,
   "metadata": {},
   "outputs": [],
   "source": [
    "np.asarray([1,1])+ test"
   ]
  },
  {
   "cell_type": "code",
   "execution_count": null,
   "metadata": {},
   "outputs": [],
   "source": [
    "np.asarray([0,0])+ test"
   ]
  },
  {
   "cell_type": "code",
   "execution_count": null,
   "metadata": {},
   "outputs": [],
   "source": [
    "np.asarray([0,1])*2+ test"
   ]
  },
  {
   "cell_type": "code",
   "execution_count": null,
   "metadata": {},
   "outputs": [],
   "source": [
    "len([1,2,3])"
   ]
  },
  {
   "cell_type": "code",
   "execution_count": null,
   "metadata": {},
   "outputs": [],
   "source": []
  }
 ],
 "metadata": {
  "kernelspec": {
   "display_name": "Python 3",
   "language": "python",
   "name": "python3"
  },
  "language_info": {
   "codemirror_mode": {
    "name": "ipython",
    "version": 3
   },
   "file_extension": ".py",
   "mimetype": "text/x-python",
   "name": "python",
   "nbconvert_exporter": "python",
   "pygments_lexer": "ipython3",
   "version": "3.6.7"
  }
 },
 "nbformat": 4,
 "nbformat_minor": 2
}
