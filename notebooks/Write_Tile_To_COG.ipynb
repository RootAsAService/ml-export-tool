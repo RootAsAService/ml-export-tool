{
 "cells": [
  {
   "cell_type": "markdown",
   "metadata": {},
   "source": [
    "# Write tiles to COG Experimentation"
   ]
  },
  {
   "cell_type": "markdown",
   "metadata": {},
   "source": [
    "## Define Raster Tile Template"
   ]
  },
  {
   "cell_type": "code",
   "execution_count": null,
   "metadata": {},
   "outputs": [],
   "source": [
    "\"\"\"tests ml_export.tile_generator.base\"\"\"\n",
    "\n",
    "import os\n",
    "import pytest\n",
    "## Note, for mac osx compatability import something from shapely.geometry before importing fiona or geopandas\n",
    "## https://github.com/Toblerity/Shapely/issues/553  * Import shapely before rasterio or fioana\n",
    "from shapely import geometry\n",
    "import mercantile\n",
    "from rio_tiler import main\n",
    "import numpy as np\n",
    "from ml_export import tile_generator, tile_aggregator\n",
    "import rasterio\n",
    "%load_ext autoreload\n",
    "%autoreload 2"
   ]
  },
  {
   "cell_type": "code",
   "execution_count": null,
   "metadata": {},
   "outputs": [],
   "source": [
    "## Define Raster Template\n",
    "raster_tile_server_template = \"https://14ffxwyw5l.execute-api.us-east-1.amazonaws.com/production/tiles/{z}/{x}/{y}.jpg?url=s3://spacenet-dataset/AOI_2_Vegas/srcData/rasterData/AOI_2_Vegas_MUL-PanSharpen_Cloud.tif&rgb=5,3,2&linearStretch=true&band1=5&band2=7&tilesize=256\"\n",
    "raster_tile_server_template = \"https://tiles.openaerialmap.org/5ae36dd70b093000130afdd4/0/5ae36dd70b093000130afdd5/{z}/{x}/{y}.png\""
   ]
  },
  {
   "cell_type": "code",
   "execution_count": null,
   "metadata": {},
   "outputs": [],
   "source": [
    "## Define Example Geometry\n",
    "\n",
    "tile_obj = mercantile.tile(39.299515932798386, -6.080908028740757 , 12)\n",
    "\n",
    "geom = geometry.box(-115.24, 36.1, -115.2, 36.2)\n",
    "zoom_level = 12\n",
    "\n",
    "large_tile_object_list = tile_generator.get_tile_list(geom, zoom=zoom_level)\n",
    "print(\"{} z{} Tiles identified\".format(len(large_tile_object_list), zoom_level))"
   ]
  },
  {
   "cell_type": "code",
   "execution_count": null,
   "metadata": {},
   "outputs": [],
   "source": [
    "## Pick 1 Z Tile For For Testing and Get 2x Zoomed Tiles (z17 = 4x4 z19)\n",
    "from tqdm import tqdm\n",
    "file_name = \"/Users/dlindenbaum/cosmiQGit/ml-export-tool/tests/fixtures/my-bucket/spacenet_test/las_vegas_tile_4.tiff\"\n",
    "raster_address = \"s3://spacenet-dataset/AOI_2_Vegas/resultData/AOI_2_Vegas_MULPS_v13_cloud.tiff\"\n",
    "#raster_addrsss = 's3://spacenet-dataset/AOI_2_Vegas/srcData/rasterData/AOI_2_Vegas_MUL-PanSharpen_Cloud.tif'\n",
    "small_tile_zoom=16\n",
    "super_res_tile_zoom = 19\n",
    "num_channels = 3\n",
    "tile_obj = mercantile.tile(39.299515932798386, -6.080908028740757 , 14)\n",
    "\n",
    "for large_tile_object in [tile_obj]:\n",
    "    \n",
    "    large_cog_profile = tile_aggregator.create_webmercator_cog_profile(large_tile_object, super_res_tile_zoom, num_channels=num_channels)\n",
    "    print(large_cog_profile)\n",
    "    with rasterio.open(file_name, 'w', **large_cog_profile) as dst_dataset:\n",
    "        \n",
    "        small_tile_object_list, small_tile_position_list = tile_generator.create_super_tile_list(large_tile_object, desired_zoom_level=small_tile_zoom)\n",
    "\n",
    "        \n",
    "        for small_tile_object in tqdm(small_tile_object_list):\n",
    "            \n",
    "\n",
    "            super_res_tile = tile_generator.create_super_tile_image(small_tile_object, raster_tile_server_template, \n",
    "                                                                    desired_zoom_level=super_res_tile_zoom, indexes=[1,2,3], \n",
    "                                                                    tile_size=256, cog=False)\n",
    "            \n",
    "            \n",
    "            left, bottom, right, top = mercantile.xy_bounds(*small_tile_object)\n",
    "            dst_window = rasterio.windows.from_bounds(left, bottom, right, top, transform=large_cog_profile['transform'])\n",
    "            dst_transform = dst_dataset.window_transform(dst_window)\n",
    "            dst_dataset.write(super_res_tile.astype(large_cog_profile['dtype']), window=dst_window)\n",
    "\n",
    "            "
   ]
  },
  {
   "cell_type": "code",
   "execution_count": null,
   "metadata": {},
   "outputs": [],
   "source": [
    "from torch.utils.data import Dataset, DataLoader\n",
    "from torchvision import transforms, utils\n",
    "\n",
    "# Ignore warnings\n",
    "import warnings\n",
    "warnings.filterwarnings(\"ignore\")\n",
    "\n",
    "\n",
    "class TileClassDataset(Dataset):\n",
    "    \n",
    "    def __init__(self, root_tile_obj, raster_location,\n",
    "                 desired_zoom_level, super_res_zoom_level, \n",
    "                cog=True,\n",
    "                tile_size=256,\n",
    "                 indexes=None\n",
    "                ):\n",
    "    \n",
    "        self.root_tile_obj = root_tile_obj\n",
    "        self.desired_zoom_level = desired_zoom_level\n",
    "        self.super_res_zoom_level = super_res_zoom_level\n",
    "        self.raster_location = raster_location\n",
    "        self.cog = cog\n",
    "        self.tile_size = tile_size\n",
    "        \n",
    "        if indexes==None:\n",
    "            self.indexes = [1,2,3]\n",
    "        else:\n",
    "            self.indexes = indexes\n",
    "        \n",
    "        \n",
    "        small_tile_object_list, small_tile_position_list = tile_generator.create_super_tile_list(large_tile_object, desired_zoom_level=small_tile_zoom)\n",
    "        self.small_tile_object_list = small_tile_object_list\n",
    "        self.small_tile_position_list = small_tile_position_list\n",
    "        \n",
    "    def __len__(self):\n",
    "        \n",
    "        return len(self.small_tile_object_list)\n",
    "\n",
    "    \n",
    "    def __getitem__(self,idx):\n",
    "    \n",
    "        super_res_tile = tile_generator.create_super_tile_image(self.small_tile_object_list[idx], \n",
    "                                                                self.raster_location, \n",
    "                                                                desired_zoom_level=self.super_res_zoom_level,\n",
    "                                                                indexes=self.indexes,\n",
    "                                                                tile_size=self.tile_size, \n",
    "                                                                cog=self.cog)\n",
    "        \n",
    "        return super_res_tile, mercantile.xy_bounds(*self.small_tile_object_list[idx])\n",
    "            \n",
    "\n",
    "        \n",
    "        \n",
    "     "
   ]
  },
  {
   "cell_type": "code",
   "execution_count": null,
   "metadata": {},
   "outputs": [],
   "source": [
    "%%time\n",
    "## Pick 1 Z Tile For For Testing and Get 2x Zoomed Tiles (z17 = 4x4 z19)\n",
    "from tqdm import tqdm\n",
    "file_name = \"/Users/dlindenbaum/cosmiQGit/ml-export-tool/tests/fixtures/my-bucket/spacenet_test/las_vegas_tile_5.tiff\"\n",
    "raster_address = \"s3://spacenet-dataset/AOI_2_Vegas/resultData/AOI_2_Vegas_MULPS_v13_cloud.tiff\"\n",
    "#raster_addrsss = 's3://spacenet-dataset/AOI_2_Vegas/srcData/rasterData/AOI_2_Vegas_MUL-PanSharpen_Cloud.tif'\n",
    "raster_tile_server_template = \"https://tiles.openaerialmap.org/5ae36dd70b093000130afdd4/0/5ae36dd70b093000130afdd5/{z}/{x}/{y}.png\"\n",
    "small_tile_zoom=17\n",
    "super_res_tile_zoom = 19\n",
    "num_channels = 3\n",
    "tile_obj = mercantile.tile(39.299515932798386, -6.080908028740757 , 14)\n",
    "\n",
    "for large_tile_object in [tile_obj]:\n",
    "    \n",
    "    large_cog_profile = tile_aggregator.create_webmercator_cog_profile(large_tile_object, super_res_tile_zoom, num_channels=num_channels)\n",
    "    print(large_cog_profile)\n",
    "    with rasterio.open(file_name, 'w', **large_cog_profile) as dst_dataset:\n",
    "        \n",
    "        #small_tile_object_list, small_tile_position_list = tile_generator.create_super_tile_list(large_tile_object, desired_zoom_level=small_tile_zoom)\n",
    "\n",
    "        TileIterator = TileClassDataset(root_tile_obj=large_tile_object, \n",
    "                         raster_location=raster_tile_server_template,\n",
    "                         desired_zoom_level=small_tile_zoom, \n",
    "                         super_res_zoom_level=super_res_tile_zoom, \n",
    "                         cog=False,\n",
    "                         tile_size=256,\n",
    "                         indexes=None\n",
    "                )\n",
    "        dataloader = DataLoader(TileIterator, batch_size=4,\n",
    "                        shuffle=False, num_workers=4)\n",
    "                         \n",
    "        for super_res_tile_batch, small_tile_obj_batch  in tqdm(dataloader):\n",
    "            \n",
    "            print(super_res_tile_batch.numpy().shape)\n",
    "            \n",
    "            for super_res_tile, small_tile_object_tensor in zip(super_res_tile_batch, small_tile_obj_batch):\n",
    "\n",
    "                left, bottom, right, top = small_tile_object_tensor.numpy()\n",
    "                dst_window = rasterio.windows.from_bounds(left, bottom, right, top, transform=large_cog_profile['transform'])\n",
    "                dst_transform = dst_dataset.window_transform(dst_window)\n",
    "                dst_dataset.write(super_res_tile.numpy().astype(large_cog_profile['dtype']), window=dst_window)\n",
    "\n",
    "            #super_res_tile = tile_generator.create_super_tile_image(small_tile_object, raster_tile_server_template, \n",
    "            #                                                        desired_zoom_level=super_res_tile_zoom, indexes=[1,2,3], \n",
    "            #                                                        tile_size=256, cog=False)\n",
    "            \n",
    "            \n",
    "            #left, bottom, right, top = mercantile.xy_bounds(*small_tile_object)\n",
    "            #dst_window = rasterio.windows.from_bounds(left, bottom, right, top, transform=large_cog_profile['transform'])\n",
    "            #dst_transform = dst_dataset.window_transform(dst_window)\n",
    "            #dst_dataset.write(super_res_tile.astype(large_cog_profile['dtype']), window=dst_window)\n"
   ]
  },
  {
   "cell_type": "code",
   "execution_count": null,
   "metadata": {},
   "outputs": [],
   "source": [
    "small_tile_obj_batch"
   ]
  },
  {
   "cell_type": "code",
   "execution_count": null,
   "metadata": {},
   "outputs": [],
   "source": [
    "left, bottom, right, top = small_tile_object.numpy()"
   ]
  },
  {
   "cell_type": "code",
   "execution_count": null,
   "metadata": {},
   "outputs": [],
   "source": [
    "left"
   ]
  },
  {
   "cell_type": "code",
   "execution_count": null,
   "metadata": {},
   "outputs": [],
   "source": [
    "mercantile.xy_bounds(large_tile_object).left - 250"
   ]
  },
  {
   "cell_type": "markdown",
   "metadata": {},
   "source": [
    "## georectification exploration"
   ]
  },
  {
   "cell_type": "code",
   "execution_count": null,
   "metadata": {},
   "outputs": [],
   "source": [
    "from affine import Affine\n",
    "import rasterio\n",
    "from rasterio.profiles import DefaultGTiffProfile\n",
    "zoom_level = tile_object.z\n",
    "bbox_xy = mercantile.xy_bounds(tile_object)\n",
    "meters_per_pixel = 20037508*2 / 2**(8 + zoom_level)\n",
    "print(\"{} level has {} meters per pixel\".format(zoom_level, meters_per_pixel))\n",
    "\n",
    "bbox_xy = mercantile.xy_bounds(tile_object)\n",
    "\n",
    "transform = Affine(meters_per_pixel, 0, bbox_xy.left-25, 0, -meters_per_pixel, bbox_xy.top)\n",
    "print(transform)"
   ]
  },
  {
   "cell_type": "code",
   "execution_count": null,
   "metadata": {},
   "outputs": [],
   "source": [
    "super_res_tile.shape"
   ]
  },
  {
   "cell_type": "markdown",
   "metadata": {},
   "source": [
    "## Write Tile to Image"
   ]
  },
  {
   "cell_type": "code",
   "execution_count": null,
   "metadata": {},
   "outputs": [],
   "source": [
    "testLocation = \"/Users/dlindenbaum/cosmiQGit/ml-export-tool/tests/fixtures/my-bucket/spacenet_test/las_vegas_tile_3.tiff\"\n",
    "tile_object_list = [tile_object]\n",
    "data_list = [super_res_tile]\n",
    "with rasterio.open(testLocation, 'w', **DefaultGTiffProfile(count=3, height=5000, width=5000, crs=\"EPSG:3857\", transform=transform)) as dst_dataset:\n",
    "    \n",
    "    for tile_object, data in zip(tile_object_list, data_list):\n",
    "        left, bottom, right, top = mercantile.xy_bounds(*tile_object)\n",
    "        \n",
    "        dst_window  = rasterio.windows.from_bounds(left, bottom, right, top, transform=transform)\n",
    "        dst_transform = dst_dataset.window_transform(dst_window)\n",
    "        print(dst_window)\n",
    "        print(dst_transform)\n",
    "        dst_dataset.write(data.astype(np.uint8), window=dst_window) "
   ]
  },
  {
   "cell_type": "code",
   "execution_count": null,
   "metadata": {},
   "outputs": [],
   "source": [
    "tile_object"
   ]
  },
  {
   "cell_type": "code",
   "execution_count": null,
   "metadata": {},
   "outputs": [],
   "source": [
    "zoom_level = tile_object.z\n",
    "meters_per_pixel = 20037508*2 / 2**(8 + zoom_level)\n"
   ]
  },
  {
   "cell_type": "code",
   "execution_count": null,
   "metadata": {},
   "outputs": [],
   "source": [
    "(bbox_xy.right - bbox_xy.left)/meters_per_pixel"
   ]
  },
  {
   "cell_type": "code",
   "execution_count": null,
   "metadata": {},
   "outputs": [],
   "source": [
    "geom = geometry.box(-115.24, 36.1, -115.2, 36.2)\n",
    "geom = geometry.box(-115.24, 36.1, -115.2, 36.2)\n",
    "\n",
    "zoom_level = 12\n",
    "tile_object_list = tile_generator.get_tile_list(geom, zoom=zoom_level)\n",
    "print(\"{} z{} Tiles identified\".format(len(tile_object_list), zoom_level))"
   ]
  },
  {
   "cell_type": "code",
   "execution_count": null,
   "metadata": {},
   "outputs": [],
   "source": [
    "from ml_export import tile_aggregator"
   ]
  },
  {
   "cell_type": "code",
   "execution_count": null,
   "metadata": {},
   "outputs": [],
   "source": [
    "tile_aggregator.build_cog_from_tiles()"
   ]
  },
  {
   "cell_type": "code",
   "execution_count": null,
   "metadata": {},
   "outputs": [],
   "source": [
    "list(np.asarray([1,2,3])-1)"
   ]
  },
  {
   "cell_type": "code",
   "execution_count": null,
   "metadata": {},
   "outputs": [],
   "source": []
  }
 ],
 "metadata": {
  "kernelspec": {
   "display_name": "Python 3",
   "language": "python",
   "name": "python3"
  },
  "language_info": {
   "codemirror_mode": {
    "name": "ipython",
    "version": 3
   },
   "file_extension": ".py",
   "mimetype": "text/x-python",
   "name": "python",
   "nbconvert_exporter": "python",
   "pygments_lexer": "ipython3",
   "version": "3.6.6"
  }
 },
 "nbformat": 4,
 "nbformat_minor": 2
}
